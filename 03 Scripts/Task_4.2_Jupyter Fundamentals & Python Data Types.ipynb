{
 "cells": [
  {
   "cell_type": "code",
   "execution_count": 3,
   "id": "2ef33359-84c1-4506-9d40-d524fb12080e",
   "metadata": {},
   "outputs": [],
   "source": [
    "#Import Libraries\n",
    "import pandas as pd\n",
    "import numpy as np\n",
    "import os"
   ]
  },
  {
   "cell_type": "code",
   "execution_count": 17,
   "id": "9b6237dc-1746-44bc-8b43-9e201fba29ad",
   "metadata": {},
   "outputs": [],
   "source": [
    "#Data Types\n",
    "\n",
    "x = 75\n",
    "y = 25\n",
    "z = 125"
   ]
  },
  {
   "cell_type": "code",
   "execution_count": 13,
   "id": "f86d888e-5933-4f13-bb58-a5688038ca20",
   "metadata": {},
   "outputs": [
    {
     "name": "stdout",
     "output_type": "stream",
     "text": [
      "100\n"
     ]
    }
   ],
   "source": [
    "print (x+y)"
   ]
  },
  {
   "cell_type": "code",
   "execution_count": 19,
   "id": "d4f7eaf2-e7c3-4f48-a23e-7338e42cb941",
   "metadata": {},
   "outputs": [
    {
     "name": "stdout",
     "output_type": "stream",
     "text": [
      "100\n"
     ]
    }
   ],
   "source": [
    "print (z-y)"
   ]
  },
  {
   "cell_type": "code",
   "execution_count": 21,
   "id": "c044b80e-2e43-454b-b8e5-aabacf5e1f9d",
   "metadata": {},
   "outputs": [
    {
     "name": "stdout",
     "output_type": "stream",
     "text": [
      "100\n"
     ]
    }
   ],
   "source": [
    "print (z + y - 2 * y)"
   ]
  },
  {
   "cell_type": "code",
   "execution_count": 23,
   "id": "4b13045c-9fba-4460-b1c0-f01fc9974f85",
   "metadata": {},
   "outputs": [],
   "source": [
    "# Code 2 floating-point variables and divide them by each other\n",
    "x = 5.5\n",
    "y = 10.8"
   ]
  },
  {
   "cell_type": "code",
   "execution_count": 25,
   "id": "a6cb3628-1c95-4c8a-8c6e-e5ae6f9d80e8",
   "metadata": {},
   "outputs": [
    {
     "name": "stdout",
     "output_type": "stream",
     "text": [
      "0.5092592592592592\n"
     ]
    }
   ],
   "source": [
    "print (x/y)"
   ]
  },
  {
   "cell_type": "code",
   "execution_count": 27,
   "id": "526f114b-68a0-4e3c-9e6b-ae0cbabc3184",
   "metadata": {},
   "outputs": [
    {
     "name": "stdout",
     "output_type": "stream",
     "text": [
      "1.9636363636363638\n"
     ]
    }
   ],
   "source": [
    "print (y/x)"
   ]
  },
  {
   "cell_type": "code",
   "execution_count": 29,
   "id": "f6c42025-5105-424f-aaf0-e3f7cb1900b0",
   "metadata": {},
   "outputs": [],
   "source": [
    "# Construct a short word made of separate strings\n",
    "a = 'Basket'\n",
    "b = 'ball'"
   ]
  },
  {
   "cell_type": "code",
   "execution_count": 31,
   "id": "ff98a1d0-a08e-4cd2-b141-689e464461de",
   "metadata": {},
   "outputs": [
    {
     "name": "stdout",
     "output_type": "stream",
     "text": [
      "Basketball\n"
     ]
    }
   ],
   "source": [
    "print (a+b)"
   ]
  },
  {
   "cell_type": "code",
   "execution_count": 39,
   "id": "a2396337-ec71-40c1-afd3-54d8255cebcb",
   "metadata": {},
   "outputs": [],
   "source": [
    "# Construct 2 short sentences made of separate strings\n",
    "a = ' Hello. '\n",
    "b = ' Would you like to have some tea? '"
   ]
  },
  {
   "cell_type": "code",
   "execution_count": 41,
   "id": "29a075a6-c0b1-4c76-9eb1-d37a3ff89baf",
   "metadata": {},
   "outputs": [
    {
     "name": "stdout",
     "output_type": "stream",
     "text": [
      " Hello.  Would you like to have some tea? \n"
     ]
    }
   ],
   "source": [
    "print (a+b)"
   ]
  },
  {
   "cell_type": "code",
   "execution_count": 49,
   "id": "c33a6cb2-7f58-405b-89aa-905c35b456f4",
   "metadata": {},
   "outputs": [],
   "source": [
    "# Include a command that makes a string appear 100 times.\n",
    "a = 'Pets'"
   ]
  },
  {
   "cell_type": "code",
   "execution_count": 51,
   "id": "33548455-20a5-4c6b-af51-c1db2a1e2821",
   "metadata": {},
   "outputs": [
    {
     "name": "stdout",
     "output_type": "stream",
     "text": [
      "PetsPetsPetsPetsPetsPetsPetsPetsPetsPetsPetsPetsPetsPetsPetsPetsPetsPetsPetsPetsPetsPetsPetsPetsPetsPetsPetsPetsPetsPetsPetsPetsPetsPetsPetsPetsPetsPetsPetsPetsPetsPetsPetsPetsPetsPetsPetsPetsPetsPetsPetsPetsPetsPetsPetsPetsPetsPetsPetsPetsPetsPetsPetsPetsPetsPetsPetsPetsPetsPetsPetsPetsPetsPetsPetsPetsPetsPetsPetsPetsPetsPetsPetsPetsPetsPetsPetsPetsPetsPetsPetsPetsPetsPetsPetsPetsPetsPetsPetsPets\n"
     ]
    }
   ],
   "source": [
    "print (a*100)"
   ]
  },
  {
   "cell_type": "code",
   "execution_count": null,
   "id": "2d69ebf6-4cb4-4ebc-b33b-28aa0b83de4d",
   "metadata": {},
   "outputs": [],
   "source": []
  }
 ],
 "metadata": {
  "kernelspec": {
   "display_name": "Python 3 (ipykernel)",
   "language": "python",
   "name": "python3"
  },
  "language_info": {
   "codemirror_mode": {
    "name": "ipython",
    "version": 3
   },
   "file_extension": ".py",
   "mimetype": "text/x-python",
   "name": "python",
   "nbconvert_exporter": "python",
   "pygments_lexer": "ipython3",
   "version": "3.11.7"
  }
 },
 "nbformat": 4,
 "nbformat_minor": 5
}
